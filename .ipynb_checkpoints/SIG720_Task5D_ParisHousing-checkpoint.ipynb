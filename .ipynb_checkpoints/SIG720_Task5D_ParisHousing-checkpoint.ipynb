{
 "cells": [
  {
   "cell_type": "markdown",
   "id": "cad42de6",
   "metadata": {},
   "source": [
    "# SIG720 Task 5D: Paris Housing Price Prediction\n",
    "\n",
    "This notebook contains the complete solution for Task 5D using the **Paris Housing Price Prediction** dataset from Kaggle.\n",
    "\n",
    "**Dataset Source:** [Paris Housing Price Prediction – Kaggle](https://www.kaggle.com/datasets/mssmartypants/paris-housing-price-prediction)\n",
    "\n",
    "---"
   ]
  },
  {
   "cell_type": "code",
   "execution_count": null,
   "id": "30513463",
   "metadata": {},
   "outputs": [],
   "source": [
    "# Imports\n",
    "import pandas as pd\n",
    "import numpy as np\n",
    "import matplotlib.pyplot as plt\n",
    "import seaborn as sns\n",
    "from sklearn.model_selection import train_test_split, KFold, cross_val_score\n",
    "from sklearn.linear_model import LinearRegression\n",
    "from sklearn.ensemble import RandomForestRegressor\n",
    "from xgboost import XGBRegressor\n",
    "from sklearn.metrics import mean_absolute_error, mean_squared_error, r2_score\n",
    "from sklearn.preprocessing import StandardScaler\n",
    "import shap\n",
    "import streamlit as st"
   ]
  },
  {
   "cell_type": "code",
   "execution_count": null,
   "id": "64fbec92",
   "metadata": {},
   "outputs": [],
   "source": [
    "# Load dataset\n",
    "data = pd.read_csv('ParisHousing.csv')  # Ensure this file is in the same directory\n",
    "print(data.shape)\n",
    "data.head()"
   ]
  },
  {
   "cell_type": "markdown",
   "id": "22b01d5c",
   "metadata": {},
   "source": [
    "## Data Preprocessing and EDA"
   ]
  },
  {
   "cell_type": "code",
   "execution_count": null,
   "id": "fa981fe8",
   "metadata": {},
   "outputs": [],
   "source": [
    "# Check for null values and data types\n",
    "data.info()"
   ]
  },
  {
   "cell_type": "code",
   "execution_count": null,
   "id": "9dc8ec0d",
   "metadata": {},
   "outputs": [],
   "source": [
    "# Summary statistics\n",
    "data.describe()"
   ]
  },
  {
   "cell_type": "code",
   "execution_count": null,
   "id": "13fb392a",
   "metadata": {},
   "outputs": [],
   "source": [
    "# Visualize price distribution\n",
    "sns.histplot(data['price'], bins=30, kde=True)\n",
    "plt.title('Housing Price Distribution')\n",
    "plt.show()"
   ]
  },
  {
   "cell_type": "code",
   "execution_count": null,
   "id": "88598c31",
   "metadata": {},
   "outputs": [],
   "source": [
    "# Correlation heatmap\n",
    "plt.figure(figsize=(10, 6))\n",
    "sns.heatmap(data.corr(), annot=True, cmap='coolwarm')\n",
    "plt.title('Feature Correlation Heatmap')\n",
    "plt.show()"
   ]
  },
  {
   "cell_type": "code",
   "execution_count": null,
   "id": "77a898fb",
   "metadata": {},
   "outputs": [],
   "source": [
    "# Feature scaling\n",
    "scaler = StandardScaler()\n",
    "X = data.drop(columns=['price'])\n",
    "y = data['price']\n",
    "X_scaled = scaler.fit_transform(X)"
   ]
  },
  {
   "cell_type": "markdown",
   "id": "4a1759c0",
   "metadata": {},
   "source": [
    "## Model Development and Evaluation"
   ]
  },
  {
   "cell_type": "code",
   "execution_count": null,
   "id": "e1bad648",
   "metadata": {},
   "outputs": [],
   "source": [
    "# Train-test split\n",
    "X_train, X_test, y_train, y_test = train_test_split(X_scaled, y, test_size=0.2, random_state=42)"
   ]
  },
  {
   "cell_type": "code",
   "execution_count": null,
   "id": "80e44aa6",
   "metadata": {},
   "outputs": [],
   "source": [
    "# Define models\n",
    "models = {\n",
    "    'Linear Regression': LinearRegression(),\n",
    "    'Random Forest': RandomForestRegressor(random_state=42),\n",
    "    'XGBoost': XGBRegressor(objective='reg:squarederror', random_state=42)\n",
    "}"
   ]
  },
  {
   "cell_type": "code",
   "execution_count": null,
   "id": "5178e004",
   "metadata": {},
   "outputs": [],
   "source": [
    "# Evaluate models using cross-validation\n",
    "for name, model in models.items():\n",
    "    scores = cross_val_score(model, X_train, y_train, cv=5, scoring='r2')\n",
    "    print(f\"{name} - CV R2: {np.mean(scores):.4f} (+/- {np.std(scores):.4f})\")"
   ]
  },
  {
   "cell_type": "markdown",
   "id": "34c8cea5",
   "metadata": {},
   "source": [
    "## Feature Importance"
   ]
  },
  {
   "cell_type": "code",
   "execution_count": null,
   "id": "be6a4adc",
   "metadata": {},
   "outputs": [],
   "source": [
    "# Fit Random Forest and show feature importances\n",
    "rf = RandomForestRegressor(random_state=42)\n",
    "rf.fit(X_train, y_train)\n",
    "importances = rf.feature_importances_\n",
    "for feat, score in zip(X.columns, importances):\n",
    "    print(f\"{feat}: {score:.4f}\")"
   ]
  },
  {
   "cell_type": "code",
   "execution_count": null,
   "id": "9f6f7c25",
   "metadata": {},
   "outputs": [],
   "source": [
    "# SHAP values for interpretability\n",
    "explainer = shap.Explainer(rf, X_train)\n",
    "shap_values = explainer(X_train)\n",
    "shap.plots.beeswarm(shap_values)"
   ]
  },
  {
   "cell_type": "markdown",
   "id": "6fe9f7f6",
   "metadata": {},
   "source": [
    "## Deployment"
   ]
  },
  {
   "cell_type": "code",
   "execution_count": null,
   "id": "cb1c7a21",
   "metadata": {},
   "outputs": [],
   "source": [
    "# Use this section in a separate Streamlit script (app.py) to deploy the model\n",
    "# See generated app script separately"
   ]
  },
  {
   "cell_type": "markdown",
   "id": "d9586d93",
   "metadata": {},
   "source": [
    "---\n",
    "**End of notebook**"
   ]
  }
 ],
 "metadata": {},
 "nbformat": 4,
 "nbformat_minor": 5
}
